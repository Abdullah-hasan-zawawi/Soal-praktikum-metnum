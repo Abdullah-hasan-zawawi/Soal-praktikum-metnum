{
 "cells": [
  {
   "cell_type": "code",
   "execution_count": 2,
   "metadata": {},
   "outputs": [],
   "source": [
    "import pandas as pd\n",
    "import matplotlib.pyplot as plt\n",
    "import numpy as np\n",
    "from math import *\n",
    "from numpy import log as ln"
   ]
  },
  {
   "cell_type": "markdown",
   "metadata": {},
   "source": [
    "## Fixed Point Method"
   ]
  },
  {
   "cell_type": "markdown",
   "metadata": {},
   "source": [
    "## Define a Function"
   ]
  },
  {
   "cell_type": "code",
   "execution_count": 3,
   "metadata": {},
   "outputs": [],
   "source": [
    "def f(x):                                          #definisikan fungsi\n",
    "    return ln(4+x-x**2)\n",
    "def g(x):\n",
    "    return 4+x-x**2"
   ]
  },
  {
   "cell_type": "code",
   "execution_count": 25,
   "metadata": {},
   "outputs": [
    {
     "name": "stderr",
     "output_type": "stream",
     "text": [
      "c:\\users\\lenovo\\appdata\\local\\programs\\python\\python37\\lib\\site-packages\\ipykernel_launcher.py:2: RuntimeWarning: invalid value encountered in log\n",
      "  \n"
     ]
    },
    {
     "data": {
      "text/plain": [
       "[<matplotlib.lines.Line2D at 0x1f383338b00>]"
      ]
     },
     "execution_count": 25,
     "metadata": {},
     "output_type": "execute_result"
    },
    {
     "data": {
      "image/png": "[encoded data removed]",
      "text/plain": [
       "<Figure size 432x288 with 1 Axes>"
      ]
     },
     "metadata": {
      "needs_background": "light"
     },
     "output_type": "display_data"
    }
   ],
   "source": [
    "a=np.arange(-3,4,0.3)\n",
    "plt.plot(a,f(a))"
   ]
  },
  {
   "cell_type": "markdown",
   "metadata": {},
   "source": [
    "Ada Akar di interval 0 hingga 4."
   ]
  },
  {
   "cell_type": "markdown",
   "metadata": {},
   "source": [
    "## Mencari akar dengan cara biasa"
   ]
  },
  {
   "cell_type": "code",
   "execution_count": 34,
   "metadata": {},
   "outputs": [
    {
     "name": "stderr",
     "output_type": "stream",
     "text": [
      "c:\\users\\lenovo\\appdata\\local\\programs\\python\\python37\\lib\\site-packages\\ipykernel_launcher.py:2: RuntimeWarning: invalid value encountered in log\n",
      "  \n",
      "c:\\users\\lenovo\\appdata\\local\\programs\\python\\python37\\lib\\site-packages\\scipy\\optimize\\minpack.py:162: RuntimeWarning: The iteration is not making good progress, as measured by the \n",
      "  improvement from the last ten iterations.\n",
      "  warnings.warn(msg, RuntimeWarning)\n"
     ]
    },
    {
     "data": {
      "text/plain": [
       "(array([1.3]), array([1.28370777]))"
      ]
     },
     "execution_count": 34,
     "metadata": {},
     "output_type": "execute_result"
    }
   ],
   "source": [
    "from scipy.optimize import fsolve\n",
    "akar_sesungguhnya=fsolve(f,1.3,xtol=0.0001)\n",
    "akar_sesungguhnya,f(akar_sesungguhnya)"
   ]
  },
  {
   "cell_type": "code",
   "execution_count": 33,
   "metadata": {},
   "outputs": [
    {
     "name": "stdout",
     "output_type": "stream",
     "text": [
      "Help on function fsolve in module scipy.optimize.minpack:\n",
      "\n",
      "fsolve(func, x0, args=(), fprime=None, full_output=0, col_deriv=0, xtol=1.49012e-08, maxfev=0, band=None, epsfcn=None, factor=100, diag=None)\n",
      "    Find the roots of a function.\n",
      "    \n",
      "    Return the roots of the (non-linear) equations defined by\n",
      "    ``func(x) = 0`` given a starting estimate.\n",
      "    \n",
      "    Parameters\n",
      "    ----------\n",
      "    func : callable ``f(x, *args)``\n",
      "        A function that takes at least one (possibly vector) argument,\n",
      "        and returns a value of the same length.\n",
      "    x0 : ndarray\n",
      "        The starting estimate for the roots of ``func(x) = 0``.\n",
      "    args : tuple, optional\n",
      "        Any extra arguments to `func`.\n",
      "    fprime : callable ``f(x, *args)``, optional\n",
      "        A function to compute the Jacobian of `func` with derivatives\n",
      "        across the rows. By default, the Jacobian will be estimated.\n",
      "    full_output : bool, optional\n",
      "        If True, return optional outputs.\n",
      "    col_deriv : bool, optional\n",
      "        Specify whether the Jacobian function computes derivatives down\n",
      "        the columns (faster, because there is no transpose operation).\n",
      "    xtol : float, optional\n",
      "        The calculation will terminate if the relative error between two\n",
      "        consecutive iterates is at most `xtol`.\n",
      "    maxfev : int, optional\n",
      "        The maximum number of calls to the function. If zero, then\n",
      "        ``100*(N+1)`` is the maximum where N is the number of elements\n",
      "        in `x0`.\n",
      "    band : tuple, optional\n",
      "        If set to a two-sequence containing the number of sub- and\n",
      "        super-diagonals within the band of the Jacobi matrix, the\n",
      "        Jacobi matrix is considered banded (only for ``fprime=None``).\n",
      "    epsfcn : float, optional\n",
      "        A suitable step length for the forward-difference\n",
      "        approximation of the Jacobian (for ``fprime=None``). If\n",
      "        `epsfcn` is less than the machine precision, it is assumed\n",
      "        that the relative errors in the functions are of the order of\n",
      "        the machine precision.\n",
      "    factor : float, optional\n",
      "        A parameter determining the initial step bound\n",
      "        (``factor * || diag * x||``).  Should be in the interval\n",
      "        ``(0.1, 100)``.\n",
      "    diag : sequence, optional\n",
      "        N positive entries that serve as a scale factors for the\n",
      "        variables.\n",
      "    \n",
      "    Returns\n",
      "    -------\n",
      "    x : ndarray\n",
      "        The solution (or the result of the last iteration for\n",
      "        an unsuccessful call).\n",
      "    infodict : dict\n",
      "        A dictionary of optional outputs with the keys:\n",
      "    \n",
      "        ``nfev``\n",
      "            number of function calls\n",
      "        ``njev``\n",
      "            number of Jacobian calls\n",
      "        ``fvec``\n",
      "            function evaluated at the output\n",
      "        ``fjac``\n",
      "            the orthogonal matrix, q, produced by the QR\n",
      "            factorization of the final approximate Jacobian\n",
      "            matrix, stored column wise\n",
      "        ``r``\n",
      "            upper triangular matrix produced by QR factorization\n",
      "            of the same matrix\n",
      "        ``qtf``\n",
      "            the vector ``(transpose(q) * fvec)``\n",
      "    \n",
      "    ier : int\n",
      "        An integer flag.  Set to 1 if a solution was found, otherwise refer\n",
      "        to `mesg` for more information.\n",
      "    mesg : str\n",
      "        If no solution is found, `mesg` details the cause of failure.\n",
      "    \n",
      "    See Also\n",
      "    --------\n",
      "    root : Interface to root finding algorithms for multivariate\n",
      "           functions. See the ``method=='hybr'`` in particular.\n",
      "    \n",
      "    Notes\n",
      "    -----\n",
      "    ``fsolve`` is a wrapper around MINPACK's hybrd and hybrj algorithms.\n",
      "\n"
     ]
    }
   ],
   "source": [
    "help(fsolve)"
   ]
  },
  {
   "cell_type": "markdown",
   "metadata": {},
   "source": [
    "# Fixed Point"
   ]
  },
  {
   "cell_type": "code",
   "execution_count": 22,
   "metadata": {},
   "outputs": [
    {
     "name": "stdout",
     "output_type": "stream",
     "text": [
      "sampai berapa iterasi yang dinginkan jika barisan tak konvergen ? :100\n",
      "toleransi yang dinginkan pada program ? :0.0000000001\n",
      "nilai awal ? :2\n"
     ]
    },
    {
     "data": {
      "text/html": [
       "<div>\n",
       "<style scoped>\n",
       "    .dataframe tbody tr th:only-of-type {\n",
       "        vertical-align: middle;\n",
       "    }\n",
       "\n",
       "    .dataframe tbody tr th {\n",
       "        vertical-align: top;\n",
       "    }\n",
       "\n",
       "    .dataframe thead th {\n",
       "        text-align: right;\n",
       "    }\n",
       "</style>\n",
       "<table border=\"1\" class=\"dataframe\">\n",
       "  <thead>\n",
       "    <tr style=\"text-align: right;\">\n",
       "      <th></th>\n",
       "      <th>akar</th>\n",
       "    </tr>\n",
       "  </thead>\n",
       "  <tbody>\n",
       "    <tr>\n",
       "      <td>0</td>\n",
       "      <td>0.693147</td>\n",
       "    </tr>\n",
       "    <tr>\n",
       "      <td>1</td>\n",
       "      <td>1.438102</td>\n",
       "    </tr>\n",
       "    <tr>\n",
       "      <td>2</td>\n",
       "      <td>1.214902</td>\n",
       "    </tr>\n",
       "    <tr>\n",
       "      <td>3</td>\n",
       "      <td>1.318795</td>\n",
       "    </tr>\n",
       "    <tr>\n",
       "      <td>4</td>\n",
       "      <td>1.275244</td>\n",
       "    </tr>\n",
       "    <tr>\n",
       "      <td>...</td>\n",
       "      <td>...</td>\n",
       "    </tr>\n",
       "    <tr>\n",
       "      <td>96</td>\n",
       "      <td>1.288678</td>\n",
       "    </tr>\n",
       "    <tr>\n",
       "      <td>97</td>\n",
       "      <td>1.288678</td>\n",
       "    </tr>\n",
       "    <tr>\n",
       "      <td>98</td>\n",
       "      <td>1.288678</td>\n",
       "    </tr>\n",
       "    <tr>\n",
       "      <td>99</td>\n",
       "      <td>1.288678</td>\n",
       "    </tr>\n",
       "    <tr>\n",
       "      <td>100</td>\n",
       "      <td>1.288678</td>\n",
       "    </tr>\n",
       "  </tbody>\n",
       "</table>\n",
       "<p>101 rows × 1 columns</p>\n",
       "</div>"
      ],
      "text/plain": [
       "         akar\n",
       "0    0.693147\n",
       "1    1.438102\n",
       "2    1.214902\n",
       "3    1.318795\n",
       "4    1.275244\n",
       "..        ...\n",
       "96   1.288678\n",
       "97   1.288678\n",
       "98   1.288678\n",
       "99   1.288678\n",
       "100  1.288678\n",
       "\n",
       "[101 rows x 1 columns]"
      ]
     },
     "execution_count": 22,
     "metadata": {},
     "output_type": "execute_result"
    }
   ],
   "source": [
    "from numpy import sin,cos,log,exp                  #import fungsi transenden (tidak harus empat ini, sesuai kebutuhan)    #input fungsinya\n",
    "\n",
    "def FixedPoint(p0,N,toleransi):                      #metode fixed point\n",
    "    p = f(p0)                                \n",
    "    abs_error = 0                    \n",
    "    p0 = p    \n",
    "    hasil=[p]\n",
    "    for i in range(N):    \n",
    "        if abs(f(p)-float(akar_sesungguhnya))<toleransi:\n",
    "            break\n",
    "        else:\n",
    "            p = f(p0)                                                    \n",
    "            p0 = p   \n",
    "            hasil.append(p)\n",
    "    return hasil\n",
    "\n",
    "\n",
    "batas_iterasi=input('sampai berapa iterasi yang dinginkan jika barisan tak konvergen ? :')\n",
    "batas_iterasi=int(batas_iterasi)\n",
    "toleransi=input('toleransi yang dinginkan pada program ? :')\n",
    "toleransi=float(toleransi)\n",
    "p_awal=input('nilai awal ? :')\n",
    "p_awal=float(p_awal)\n",
    "fixed_point = FixedPoint(p_awal,N=batas_iterasi,toleransi=toleransi)\n",
    "\n",
    "metode_fixed_point=pd.DataFrame(fixed_point,columns=['akar'])\n",
    "metode_fixed_point"
   ]
  },
  {
   "cell_type": "markdown",
   "metadata": {},
   "source": [
    "## Aitken Method"
   ]
  },
  {
   "cell_type": "code",
   "execution_count": 26,
   "metadata": {},
   "outputs": [
    {
     "name": "stdout",
     "output_type": "stream",
     "text": [
      "Masukkan banyak suku barisan : 4\n"
     ]
    }
   ],
   "source": [
    "#bikin barisan {pn}\n",
    "from numpy import sin,cos,log,exp\n",
    "def p(n):\n",
    "    return ln(4+n-n**2)\n",
    "\n",
    "def aitken_sequence(n):\n",
    "    barisan = [2]\n",
    "    aitken= []\n",
    "    p0=2\n",
    "    for i in range(1,n+3):\n",
    "        p1 = p(p0)                                                  \n",
    "        p0 = p1      \n",
    "        hasil=[]                    \n",
    "        barisan.append(p(p1))\n",
    "        if i>=3:\n",
    "            \n",
    "            pcap = barisan[i-3]-((barisan[i-2]-barisan[i-3])**2/(barisan[i-1]-2*barisan[i-2]+barisan[i-3]))\n",
    "            aitken.append(pcap)\n",
    "    return (barisan,aitken)\n",
    "\n",
    "\n",
    "    \n",
    "n = eval(input('Masukkan banyak suku barisan : '))\n",
    "if n<2:\n",
    "    print('Banyak suku yang dimasukkan terlalu sedikit.')\n",
    "else:\n",
    "    barisan_awal,aitken_=aitken_sequence(n)\n"
   ]
  },
  {
   "cell_type": "markdown",
   "metadata": {},
   "source": [
    "Buat tabelnya dibawah "
   ]
  },
  {
   "cell_type": "code",
   "execution_count": 6,
   "metadata": {},
   "outputs": [],
   "source": [
    "barisan=pd.DataFrame(data_barsan)\n",
    "aitken=pd.DataFrame(data_aitken)"
   ]
  },
  {
   "cell_type": "markdown",
   "metadata": {},
   "source": [
    "Tabel  sebelum dikenakan aitken"
   ]
  },
  {
   "cell_type": "code",
   "execution_count": 8,
   "metadata": {},
   "outputs": [
    {
     "data": {
      "text/html": [
       "<div>\n",
       "<style scoped>\n",
       "    .dataframe tbody tr th:only-of-type {\n",
       "        vertical-align: middle;\n",
       "    }\n",
       "\n",
       "    .dataframe tbody tr th {\n",
       "        vertical-align: top;\n",
       "    }\n",
       "\n",
       "    .dataframe thead th {\n",
       "        text-align: right;\n",
       "    }\n",
       "</style>\n",
       "<table border=\"1\" class=\"dataframe\">\n",
       "  <thead>\n",
       "    <tr style=\"text-align: right;\">\n",
       "      <th></th>\n",
       "      <th>barisan awal</th>\n",
       "    </tr>\n",
       "  </thead>\n",
       "  <tbody>\n",
       "    <tr>\n",
       "      <td>0</td>\n",
       "      <td>2.000000</td>\n",
       "    </tr>\n",
       "    <tr>\n",
       "      <td>1</td>\n",
       "      <td>1.438102</td>\n",
       "    </tr>\n",
       "    <tr>\n",
       "      <td>2</td>\n",
       "      <td>1.214902</td>\n",
       "    </tr>\n",
       "    <tr>\n",
       "      <td>3</td>\n",
       "      <td>1.318795</td>\n",
       "    </tr>\n",
       "    <tr>\n",
       "      <td>4</td>\n",
       "      <td>1.275244</td>\n",
       "    </tr>\n",
       "    <tr>\n",
       "      <td>5</td>\n",
       "      <td>1.294452</td>\n",
       "    </tr>\n",
       "    <tr>\n",
       "      <td>6</td>\n",
       "      <td>1.286155</td>\n",
       "    </tr>\n",
       "  </tbody>\n",
       "</table>\n",
       "</div>"
      ],
      "text/plain": [
       "   barisan awal\n",
       "0      2.000000\n",
       "1      1.438102\n",
       "2      1.214902\n",
       "3      1.318795\n",
       "4      1.275244\n",
       "5      1.294452\n",
       "6      1.286155"
      ]
     },
     "execution_count": 8,
     "metadata": {},
     "output_type": "execute_result"
    }
   ],
   "source": [
    "barisan"
   ]
  },
  {
   "cell_type": "markdown",
   "metadata": {},
   "source": [
    "Tabel "
   ]
  },
  {
   "cell_type": "code",
   "execution_count": 9,
   "metadata": {},
   "outputs": [
    {
     "data": {
      "text/html": [
       "<div>\n",
       "<style scoped>\n",
       "    .dataframe tbody tr th:only-of-type {\n",
       "        vertical-align: middle;\n",
       "    }\n",
       "\n",
       "    .dataframe tbody tr th {\n",
       "        vertical-align: top;\n",
       "    }\n",
       "\n",
       "    .dataframe thead th {\n",
       "        text-align: right;\n",
       "    }\n",
       "</style>\n",
       "<table border=\"1\" class=\"dataframe\">\n",
       "  <thead>\n",
       "    <tr style=\"text-align: right;\">\n",
       "      <th></th>\n",
       "      <th>barisan aiken</th>\n",
       "    </tr>\n",
       "  </thead>\n",
       "  <tbody>\n",
       "    <tr>\n",
       "      <td>0</td>\n",
       "      <td>1.067814</td>\n",
       "    </tr>\n",
       "    <tr>\n",
       "      <td>1</td>\n",
       "      <td>1.285796</td>\n",
       "    </tr>\n",
       "    <tr>\n",
       "      <td>2</td>\n",
       "      <td>1.288108</td>\n",
       "    </tr>\n",
       "    <tr>\n",
       "      <td>3</td>\n",
       "      <td>1.288573</td>\n",
       "    </tr>\n",
       "  </tbody>\n",
       "</table>\n",
       "</div>"
      ],
      "text/plain": [
       "   barisan aiken \n",
       "0        1.067814\n",
       "1        1.285796\n",
       "2        1.288108\n",
       "3        1.288573"
      ]
     },
     "execution_count": 9,
     "metadata": {},
     "output_type": "execute_result"
    }
   ],
   "source": [
    "aitken"
   ]
  },
  {
   "cell_type": "markdown",
   "metadata": {},
   "source": [
    "## Stefensen Method"
   ]
  },
  {
   "cell_type": "code",
   "execution_count": 28,
   "metadata": {},
   "outputs": [
    {
     "name": "stdout",
     "output_type": "stream",
     "text": [
      "Masukkan banyak suku barisan : 4\n"
     ]
    }
   ],
   "source": [
    "def stefensen_sequence(n):\n",
    "    \n",
    "    stefensen = [2]\n",
    "    p0=2\n",
    "    for i in range(1,n+3):\n",
    "        p1 = p(p0)                                                  \n",
    "        p0 = p1      \n",
    "        hasil=[]                    \n",
    "        stefensen.append(p(p1))\n",
    "        if i%3==0:\n",
    "            pcap = stefensen[i-3]-((stefensen[i-2]-stefensen[i-3])**2/(stefensen[i-1]-2*stefensen[i-2]+stefensen[i-3]))\n",
    "            stefensen.append(pcap)\n",
    "    return (stefensen)\n",
    "\n",
    "    \n",
    "n = eval(input('Masukkan banyak suku barisan : '))\n",
    "if n<2:\n",
    "    print('Banyak suku yang dimasukkan terlalu sedikit.')\n",
    "else:\n",
    "    stefensen_=stefensen_sequence(n)\n",
    "metode_stefensen=pd.DataFrame(stefensen_,columns=['akar stefensen'])"
   ]
  },
  {
   "cell_type": "code",
   "execution_count": 29,
   "metadata": {},
   "outputs": [
    {
     "data": {
      "text/html": [
       "<div>\n",
       "<style scoped>\n",
       "    .dataframe tbody tr th:only-of-type {\n",
       "        vertical-align: middle;\n",
       "    }\n",
       "\n",
       "    .dataframe tbody tr th {\n",
       "        vertical-align: top;\n",
       "    }\n",
       "\n",
       "    .dataframe thead th {\n",
       "        text-align: right;\n",
       "    }\n",
       "</style>\n",
       "<table border=\"1\" class=\"dataframe\">\n",
       "  <thead>\n",
       "    <tr style=\"text-align: right;\">\n",
       "      <th></th>\n",
       "      <th>akar stefensen</th>\n",
       "    </tr>\n",
       "  </thead>\n",
       "  <tbody>\n",
       "    <tr>\n",
       "      <td>0</td>\n",
       "      <td>2.000000</td>\n",
       "    </tr>\n",
       "    <tr>\n",
       "      <td>1</td>\n",
       "      <td>1.438102</td>\n",
       "    </tr>\n",
       "    <tr>\n",
       "      <td>2</td>\n",
       "      <td>1.214902</td>\n",
       "    </tr>\n",
       "    <tr>\n",
       "      <td>3</td>\n",
       "      <td>1.318795</td>\n",
       "    </tr>\n",
       "    <tr>\n",
       "      <td>4</td>\n",
       "      <td>1.067814</td>\n",
       "    </tr>\n",
       "    <tr>\n",
       "      <td>5</td>\n",
       "      <td>1.275244</td>\n",
       "    </tr>\n",
       "    <tr>\n",
       "      <td>6</td>\n",
       "      <td>1.294452</td>\n",
       "    </tr>\n",
       "    <tr>\n",
       "      <td>7</td>\n",
       "      <td>1.286155</td>\n",
       "    </tr>\n",
       "    <tr>\n",
       "      <td>8</td>\n",
       "      <td>1.181382</td>\n",
       "    </tr>\n",
       "  </tbody>\n",
       "</table>\n",
       "</div>"
      ],
      "text/plain": [
       "   akar stefensen\n",
       "0        2.000000\n",
       "1        1.438102\n",
       "2        1.214902\n",
       "3        1.318795\n",
       "4        1.067814\n",
       "5        1.275244\n",
       "6        1.294452\n",
       "7        1.286155\n",
       "8        1.181382"
      ]
     },
     "execution_count": 29,
     "metadata": {},
     "output_type": "execute_result"
    }
   ],
   "source": [
    "metode_stefensen"
   ]
  }
 ],
 "metadata": {
  "kernelspec": {
   "display_name": "Python 3",
   "language": "python",
   "name": "python3"
  },
  "language_info": {
   "codemirror_mode": {
    "name": "ipython",
    "version": 3
   },
   "file_extension": ".py",
   "mimetype": "text/x-python",
   "name": "python",
   "nbconvert_exporter": "python",
   "pygments_lexer": "ipython3",
   "version": "3.7.1"
  }
 },
 "nbformat": 4,
 "nbformat_minor": 2
}
