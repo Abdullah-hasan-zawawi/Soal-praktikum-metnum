{
 "cells": [
  {
   "cell_type": "code",
   "execution_count": 1,
   "metadata": {},
   "outputs": [],
   "source": [
    "import pandas as pd\n",
    "import matplotlib.pyplot as plt\n",
    "import numpy as np\n",
    "import sympy as sym"
   ]
  },
  {
   "cell_type": "markdown",
   "metadata": {},
   "source": [
    "# Plot  Fungsi"
   ]
  },
  {
   "cell_type": "code",
   "execution_count": 17,
   "metadata": {},
   "outputs": [
    {
     "data": {
      "text/plain": [
       "<matplotlib.legend.Legend at 0x200cc807358>"
      ]
     },
     "execution_count": 17,
     "metadata": {},
     "output_type": "execute_result"
    },
    {
     "data": {
      "image/png": "[encoded data removed]",
      "text/plain": [
       "<Figure size 432x288 with 1 Axes>"
      ]
     },
     "metadata": {
      "needs_background": "light"
     },
     "output_type": "display_data"
    }
   ],
   "source": [
    "import numpy as np\n",
    "from math import *\n",
    "interval=np.arange(-pi/5,pi/4,0.01)\n",
    "hasil_plot=[]\n",
    "%matplotlib inline\n",
    "for i in interval:\n",
    "    hasil_plot.append(f(i))\n",
    "import matplotlib.pyplot as plt\n",
    "plt.title('plot fungsi f(x)')\n",
    "plt.plot(interval,hasil_plot,label='f(x)')\n",
    "plt.legend()"
   ]
  },
  {
   "cell_type": "markdown",
   "metadata": {},
   "source": [
    "## Define Model"
   ]
  },
  {
   "cell_type": "code",
   "execution_count": 8,
   "metadata": {},
   "outputs": [
    {
     "name": "stdout",
     "output_type": "stream",
     "text": [
      "Masukkan titik dimana nilai turunan fungsinya akan diaproksimasi : 2\n",
      "Masukkan besar stepsize : 0.05\n"
     ]
    }
   ],
   "source": [
    "def f(x):\n",
    "    return x**5+9*x**4-x**3+2*x**2-5*x**1+5\n",
    "\n",
    "x0 = eval(input('Masukkan titik dimana nilai turunan fungsinya akan diaproksimasi : '))\n",
    "h = eval(input('Masukkan besar stepsize : '))\n",
    "\n",
    "def TPEP(x,h):                                          #Three Point End Point\n",
    "    return (1/(2*h))*(-3*f(x)+4*f(x+h)-f(x+2*h))        \n",
    "def TPMP(x,h):                                          #Three Point Mid Point\n",
    "    return (1/(2*h))*(f(x+h)-f(x-h))\n",
    "def FPEP(x,h):                                          #Five Point End Point\n",
    "    return (1/(12*h))*(-25*f(x)+48*f(x+h)-36*f(x+2*h)+16*f(x+3*h)-3*f(x+4*h))\n",
    "def FPMP(x,h):                                          #Five Point Mid Point\n",
    "    return (1/(12*h))*(f(x-2*h)-8*f(x-h)+8*f(x+h)-f(x+2*h))\n",
    "list_range=list(range(5))\n",
    "list_nama_method=['TPEP','TPMP','FPEP','FPMP','Turunan']\n",
    "list_hasil_method=[]\n",
    "list_hasil_method.append(TPEP(x0,h=h))\n",
    "list_hasil_method.append(TPMP(x0,h=h))\n",
    "list_hasil_method.append(FPEP(x0,h=h))\n",
    "list_hasil_method.append(FPMP(x0,h=h))\n",
    "def turunan(x):\n",
    "    return 5*x**4 + 36*x**3 - 3*x**2 + 4*x - 5\n",
    "list_hasil_method.append(turunan(x0))"
   ]
  },
  {
   "cell_type": "code",
   "execution_count": 13,
   "metadata": {},
   "outputs": [],
   "source": [
    "hasil={'Aproksimasi':list_hasil_method,'Metode':list_nama_method}"
   ]
  },
  {
   "cell_type": "code",
   "execution_count": 14,
   "metadata": {},
   "outputs": [],
   "source": [
    "data=pd.DataFrame(hasil)"
   ]
  },
  {
   "cell_type": "code",
   "execution_count": 15,
   "metadata": {},
   "outputs": [
    {
     "data": {
      "text/html": [
       "<div>\n",
       "<style scoped>\n",
       "    .dataframe tbody tr th:only-of-type {\n",
       "        vertical-align: middle;\n",
       "    }\n",
       "\n",
       "    .dataframe tbody tr th {\n",
       "        vertical-align: top;\n",
       "    }\n",
       "\n",
       "    .dataframe thead th {\n",
       "        text-align: right;\n",
       "    }\n",
       "</style>\n",
       "<table border=\"1\" class=\"dataframe\">\n",
       "  <thead>\n",
       "    <tr style=\"text-align: right;\">\n",
       "      <th></th>\n",
       "      <th>Aproksimasi</th>\n",
       "      <th>Metode</th>\n",
       "    </tr>\n",
       "  </thead>\n",
       "  <tbody>\n",
       "    <tr>\n",
       "      <td>0</td>\n",
       "      <td>358.430662</td>\n",
       "      <td>TPEP</td>\n",
       "    </tr>\n",
       "    <tr>\n",
       "      <td>1</td>\n",
       "      <td>359.277506</td>\n",
       "      <td>TPMP</td>\n",
       "    </tr>\n",
       "    <tr>\n",
       "      <td>2</td>\n",
       "      <td>358.999850</td>\n",
       "      <td>FPEP</td>\n",
       "    </tr>\n",
       "    <tr>\n",
       "      <td>3</td>\n",
       "      <td>358.999975</td>\n",
       "      <td>FPMP</td>\n",
       "    </tr>\n",
       "    <tr>\n",
       "      <td>4</td>\n",
       "      <td>359.000000</td>\n",
       "      <td>Turunan</td>\n",
       "    </tr>\n",
       "  </tbody>\n",
       "</table>\n",
       "</div>"
      ],
      "text/plain": [
       "   Aproksimasi   Metode\n",
       "0   358.430662     TPEP\n",
       "1   359.277506     TPMP\n",
       "2   358.999850     FPEP\n",
       "3   358.999975     FPMP\n",
       "4   359.000000  Turunan"
      ]
     },
     "execution_count": 15,
     "metadata": {},
     "output_type": "execute_result"
    }
   ],
   "source": [
    "data"
   ]
  },
  {
   "cell_type": "code",
   "execution_count": null,
   "metadata": {},
   "outputs": [],
   "source": []
  }
 ],
 "metadata": {
  "kernelspec": {
   "display_name": "Python 3",
   "language": "python",
   "name": "python3"
  },
  "language_info": {
   "codemirror_mode": {
    "name": "ipython",
    "version": 3
   },
   "file_extension": ".py",
   "mimetype": "text/x-python",
   "name": "python",
   "nbconvert_exporter": "python",
   "pygments_lexer": "ipython3",
   "version": "3.7.1"
  }
 },
 "nbformat": 4,
 "nbformat_minor": 2
}
